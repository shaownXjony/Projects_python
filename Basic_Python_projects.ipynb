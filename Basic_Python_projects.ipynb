{
  "nbformat": 4,
  "nbformat_minor": 0,
  "metadata": {
    "colab": {
      "provenance": [],
      "authorship_tag": "ABX9TyOTZgAe2GWGHLxo7jF4b3Bh",
      "include_colab_link": true
    },
    "kernelspec": {
      "name": "python3",
      "display_name": "Python 3"
    },
    "language_info": {
      "name": "python"
    }
  },
  "cells": [
    {
      "cell_type": "markdown",
      "metadata": {
        "id": "view-in-github",
        "colab_type": "text"
      },
      "source": [
        "<a href=\"https://colab.research.google.com/github/shaownXjony/Projects_python/blob/main/Basic_Python_projects.ipynb\" target=\"_parent\"><img src=\"https://colab.research.google.com/assets/colab-badge.svg\" alt=\"Open In Colab\"/></a>"
      ]
    },
    {
      "cell_type": "markdown",
      "source": [
        "**1. Student Result Management System:**\n",
        "A console-based application where users input student marks, calculate total and average, assign grades based on percentage, and determine pass/fail status. Useful for teachers to manage small batches of students."
      ],
      "metadata": {
        "id": "1J1VX3ojmSz0"
      }
    },
    {
      "cell_type": "code",
      "source": [
        "# Input number of subjects and students\n",
        "\n",
        "subject_numbers=int(input(\"Enter the number of the subjects: \"))\n",
        "student_numbers=int(input(\"Enter the number of the students: \"))\n",
        "\n",
        "# Input Subject names\n",
        "\n",
        "subject_names=[]\n",
        "print(\"\\nEnter the names of the subjects:\")\n",
        "for i in range(subject_numbers):\n",
        "  subject=str(input(f\"{i+1} No Subject name: \"))\n",
        "  subject_names.append(subject.capitalize())\n",
        "\n",
        "# Input students data\n",
        "\n",
        "students=[]\n",
        "\n",
        "for i in range(student_numbers):\n",
        "  print(f\"\\nEntering data for Student {i+1}\")\n",
        "  name=str(input(f\"Enter student name: \"))\n",
        "  name=name.capitalize()\n",
        "\n",
        "  #input numbers and calculations\n",
        "\n",
        "  marks={}\n",
        "  total=0\n",
        "\n",
        "  for subject in subject_names:\n",
        "    mark=float(input(f\"Enter {subject} number: \"))\n",
        "    marks[subject]=mark\n",
        "    total=total+mark\n",
        "  average = total / subject_numbers\n",
        "  percentage = (total / (subject_numbers * 100)) * 100\n",
        "\n",
        "\n",
        "  # Assign grade\n",
        "\n",
        "  if 90<= percentage<= 100:\n",
        "    grade=\"A+\"\n",
        "    status=\"Pass\"\n",
        "  elif 80<= percentage<= 89:\n",
        "    grade=\"A\"\n",
        "    status=\"Pass\"\n",
        "  elif 70<= percentage<= 79:\n",
        "    grade=\"A-\"\n",
        "    status=\"Pass\"\n",
        "  elif 60<= percentage<= 69:\n",
        "    grade=\"B\"\n",
        "    status=\"Pass\"\n",
        "  elif 50<= percentage<= 59:\n",
        "    grade=\"C\"\n",
        "    status=\"Pass\"\n",
        "  elif 40<= percentage<= 49:\n",
        "    grade=\"D\"\n",
        "    status=\"Pass\"\n",
        "  elif 35<= percentage<= 49:\n",
        "    grade=\"E\"\n",
        "    status=\"Pass\"\n",
        "  else:\n",
        "    grade=\"F\"\n",
        "    status=\"Fail\"\n",
        "\n",
        "  # Store all student data\n",
        "\n",
        "  student_data = {\n",
        "        \"name\": name,\n",
        "        \"marks\": marks,\n",
        "        \"total\": total,\n",
        "        \"average\": average,\n",
        "        \"percentage\": percentage,\n",
        "        \"grade\": grade,\n",
        "        \"status\": status\n",
        "    }\n",
        "  students.append(student_data)\n",
        "\n",
        "#print all data\n",
        "print(\"\\n=========== Student Results Summary ===========\")\n",
        "for student in students:\n",
        "    print(f\"\\nStudent Name: {student['name']}\")\n",
        "    for subject, mark in student['marks'].items():\n",
        "        print(f\"{subject}: {mark}\")\n",
        "    print(f\"Total Marks: {student['total']}\")\n",
        "    print(f\"Average Marks: {student['average']:.2f}\")\n",
        "    print(f\"Percentage: {student['percentage']:.2f}%\")\n",
        "    print(f\"Grade: {student['grade']}\")\n",
        "    print(f\"Status: {student['status']}\")\n",
        "print(\"\\n=========== End of Report ===========\")"
      ],
      "metadata": {
        "colab": {
          "base_uri": "https://localhost:8080/"
        },
        "id": "Ixzq9JphmZ2B",
        "outputId": "8956c22a-e6d4-4e4c-a703-be47a78876b8"
      },
      "execution_count": null,
      "outputs": [
        {
          "output_type": "stream",
          "name": "stdout",
          "text": [
            "Enter the number of the subjects: 3\n",
            "Enter the number of the students: 3\n",
            "\n",
            "Enter the names of the subjects:\n",
            "1 No Subject name: Bangla\n",
            "2 No Subject name: english\n",
            "3 No Subject name: math\n",
            "\n",
            "Entering data for Student 1\n",
            "Enter student name: jony\n",
            "Enter Bangla number: 33\n",
            "Enter English number: 44\n",
            "Enter Math number: 66\n",
            "\n",
            "Entering data for Student 2\n",
            "Enter student name: tony\n",
            "Enter Bangla number: 44\n",
            "Enter English number: 66\n",
            "Enter Math number: 44\n",
            "\n",
            "Entering data for Student 3\n",
            "Enter student name: sony\n",
            "Enter Bangla number: 44\n",
            "Enter English number: 66\n",
            "Enter Math number: 88\n",
            "\n",
            "=========== Student Results Summary ===========\n",
            "\n",
            "Student Name: Jony\n",
            "Bangla: 33.0\n",
            "English: 44.0\n",
            "Math: 66.0\n",
            "Total Marks: 143.0\n",
            "Average Marks: 47.67\n",
            "Percentage: 47.67%\n",
            "Grade: D\n",
            "Status: Pass\n",
            "\n",
            "Student Name: Tony\n",
            "Bangla: 44.0\n",
            "English: 66.0\n",
            "Math: 44.0\n",
            "Total Marks: 154.0\n",
            "Average Marks: 51.33\n",
            "Percentage: 51.33%\n",
            "Grade: C\n",
            "Status: Pass\n",
            "\n",
            "Student Name: Sony\n",
            "Bangla: 44.0\n",
            "English: 66.0\n",
            "Math: 88.0\n",
            "Total Marks: 198.0\n",
            "Average Marks: 66.00\n",
            "Percentage: 66.00%\n",
            "Grade: B\n",
            "Status: Pass\n",
            "\n",
            "=========== End of Report ===========\n"
          ]
        }
      ]
    },
    {
      "cell_type": "markdown",
      "source": [
        "***2. Basic Currency Converter ***(Static Rates) using manually defined exchange rates"
      ],
      "metadata": {
        "id": "PqHJMax0j7Nx"
      }
    },
    {
      "cell_type": "code",
      "source": [
        "def convert_currency(amount, from_currency, to_currency):\n",
        "    # Exchange rates relative to 1 USD\n",
        "    rates = {\n",
        "        \"USD\": 1.0,\n",
        "        \"EUR\": 0.92,\n",
        "        \"BDT\": 109.5,\n",
        "        \"INR\": 83.3,\n",
        "        \"GBP\": 0.79,\n",
        "        \"JPY\": 155.0\n",
        "    }\n",
        "\n",
        "    if from_currency not in rates or to_currency not in rates:\n",
        "        return \"Unsupported currency.\"\n",
        "\n",
        "    # Convert to USD first, then to target currency\n",
        "    usd_amount = amount / rates[from_currency]\n",
        "    converted = usd_amount * rates[to_currency]\n",
        "    return round(converted, 2)\n",
        "\n",
        "# Example usage\n",
        "print(\"Currency Converter\")\n",
        "amount = float(input(\"Enter amount: \"))\n",
        "from_curr = input(\"From currency (USD, EUR, BDT, INR, GBP, JPY): \").upper()\n",
        "to_curr = input(\"To currency (USD, EUR, BDT, INR, GBP, JPY): \").upper()\n",
        "\n",
        "result = convert_currency(amount, from_curr, to_curr)\n",
        "print(f\"{amount} {from_curr} = {result} {to_curr}\")"
      ],
      "metadata": {
        "colab": {
          "base_uri": "https://localhost:8080/"
        },
        "id": "FFA1kJh2kHZg",
        "outputId": "037ba74e-c4c8-49ce-af75-f770a2ab78ef"
      },
      "execution_count": null,
      "outputs": [
        {
          "output_type": "stream",
          "name": "stdout",
          "text": [
            "Currency Converter\n",
            "Enter amount: 100\n",
            "From currency (USD, EUR, BDT, INR, GBP, JPY): USD\n",
            "To currency (USD, EUR, BDT, INR, GBP, JPY): BDT\n",
            "100.0 USD = 10950.0 BDT\n"
          ]
        }
      ]
    },
    {
      "cell_type": "markdown",
      "source": [
        "### 3.**Temperature Converter** in Python"
      ],
      "metadata": {
        "id": "AmEzB4JHo6zI"
      }
    },
    {
      "cell_type": "code",
      "source": [
        "def celcius_to_fahrenheit(c):\n",
        "  return (c * 9/5) + 32\n",
        "def fahrenheit_to_celcius(f):\n",
        "  return (f-32)*5/9\n",
        "\n",
        "print(\"Temperature Converter\")\n",
        "print(\"Choose a conversion: \")\n",
        "print(\"1.celcius to fahrenheit\")\n",
        "print(\"2.fahrenheit to celcius\")\n",
        "\n",
        "choice=int(input(\"Enter your choice (1 or 2): \"))\n",
        "if choice==1:\n",
        "  c=float(input(\"Enter the temparature in celcius: \"))\n",
        "  print(f\"Temperature {c} degree in Fahrenheit: {celcius_to_fahrenheit(c)}\")\n",
        "elif choice==2:\n",
        "  f=float(input(\"Enter the temparature in fahrenheit: \"))\n",
        "  print(f\"Temperature {c} degree in celcius : {fahrenheit_to_celcius(f)}\")\n",
        "\n",
        "else:\n",
        "  print(\"Invalid choice\")\n"
      ],
      "metadata": {
        "colab": {
          "base_uri": "https://localhost:8080/"
        },
        "id": "V5uG8Xauo-5H",
        "outputId": "60058399-9715-4935-da66-f050ef4baf0d"
      },
      "execution_count": 10,
      "outputs": [
        {
          "output_type": "stream",
          "name": "stdout",
          "text": [
            "Temperature Converter\n",
            "Choose a conversion: \n",
            "1.celcius to fahrenheit\n",
            "2.fahrenheit to celcius\n",
            "Enter your choice (1 or 2): 1\n",
            "Enter the temparature in celcius: 32\n",
            "Temperature 32.0 degree in Fahrenheit: 89.6\n"
          ]
        }
      ]
    }
  ]
}